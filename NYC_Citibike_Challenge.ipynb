{
 "cells": [
  {
   "cell_type": "code",
   "execution_count": 9,
   "metadata": {},
   "outputs": [],
   "source": [
    "import pandas as pd"
   ]
  },
  {
   "cell_type": "code",
   "execution_count": 10,
   "metadata": {},
   "outputs": [
    {
     "data": {
      "text/plain": [
       "<bound method NDFrame.head of          tripduration                 starttime                  stoptime  \\\n",
       "0                 393  2019-08-01 00:00:01.4680  2019-08-01 00:06:35.3780   \n",
       "1                 627  2019-08-01 00:00:01.9290  2019-08-01 00:10:29.7840   \n",
       "2                1132  2019-08-01 00:00:04.0480  2019-08-01 00:18:56.1650   \n",
       "3                1780  2019-08-01 00:00:04.1630  2019-08-01 00:29:44.7940   \n",
       "4                1517  2019-08-01 00:00:05.4580  2019-08-01 00:25:23.4550   \n",
       "...               ...                       ...                       ...   \n",
       "2344219           216  2019-08-31 23:59:46.2930  2019-09-01 00:03:23.0360   \n",
       "2344220           117  2019-08-31 23:59:47.7970  2019-09-01 00:01:45.7440   \n",
       "2344221          1614  2019-08-31 23:59:48.1560  2019-09-01 00:26:42.7760   \n",
       "2344222          1301  2019-08-31 23:59:58.3620  2019-09-01 00:21:39.7040   \n",
       "2344223           419  2019-08-31 23:59:59.4520  2019-09-01 00:06:59.0210   \n",
       "\n",
       "         start station id              start station name  \\\n",
       "0                   531.0          Forsyth St & Broome St   \n",
       "1                   274.0  Lafayette Ave & Fort Greene Pl   \n",
       "2                  2000.0        Front St & Washington St   \n",
       "3                   479.0                 9 Ave & W 45 St   \n",
       "4                  3312.0                 1 Ave & E 94 St   \n",
       "...                   ...                             ...   \n",
       "2344219             116.0                 W 17 St & 8 Ave   \n",
       "2344220            3429.0          Hanson Pl & Ashland Pl   \n",
       "2344221             387.0         Centre St & Chambers St   \n",
       "2344222            3168.0     Central Park West & W 85 St   \n",
       "2344223             447.0                 8 Ave & W 52 St   \n",
       "\n",
       "         start station latitude  start station longitude  end station id  \\\n",
       "0                     40.718939               -73.992663           408.0   \n",
       "1                     40.686919               -73.976682          3409.0   \n",
       "2                     40.702551               -73.989402          3388.0   \n",
       "3                     40.760193               -73.991255           473.0   \n",
       "4                     40.781721               -73.945940          3312.0   \n",
       "...                         ...                      ...             ...   \n",
       "2344219               40.741776               -74.001497           509.0   \n",
       "2344220               40.685068               -73.977908           353.0   \n",
       "2344221               40.712733               -74.004607          3440.0   \n",
       "2344222               40.784727               -73.969617           423.0   \n",
       "2344223               40.763707               -73.985162           529.0   \n",
       "\n",
       "                   end station name  end station latitude  \\\n",
       "0             Market St & Cherry St             40.710762   \n",
       "1              Bergen St & Smith St             40.686744   \n",
       "2           President St & Henry St             40.682800   \n",
       "3        Rivington St & Chrystie St             40.721101   \n",
       "4                   1 Ave & E 94 St             40.781721   \n",
       "...                             ...                   ...   \n",
       "2344219             9 Ave & W 22 St             40.745497   \n",
       "2344220  S Portland Ave & Hanson Pl             40.685396   \n",
       "2344221        Fulton St & Adams St             40.692418   \n",
       "2344222             W 54 St & 9 Ave             40.765849   \n",
       "2344223             W 42 St & 8 Ave             40.757570   \n",
       "\n",
       "         end station longitude  bikeid    usertype  birth year  gender  \n",
       "0                   -73.994004   35305  Subscriber        1996       2  \n",
       "1                   -73.990632   38822  Subscriber        1998       2  \n",
       "2                   -73.999904   18373  Subscriber        1988       1  \n",
       "3                   -73.991925   25002  Subscriber        1988       1  \n",
       "4                   -73.945940   31198  Subscriber        1965       2  \n",
       "...                        ...     ...         ...         ...     ...  \n",
       "2344219             -74.001971   38655  Subscriber        1972       1  \n",
       "2344220             -73.974315   25264  Subscriber        1982       2  \n",
       "2344221             -73.989495   28485    Customer        1969       0  \n",
       "2344222             -73.986905   38664    Customer        1969       0  \n",
       "2344223             -73.990985   35210  Subscriber        1994       1  \n",
       "\n",
       "[2344224 rows x 15 columns]>"
      ]
     },
     "execution_count": 10,
     "metadata": {},
     "output_type": "execute_result"
    }
   ],
   "source": [
    "# 1. Create a DataFrame for the 201908-citibike-tripdata data. \n",
    "citibike_df = pd.read_csv(\"201908-citibike-tripdata.csv\")\n",
    "citibike_df.head"
   ]
  },
  {
   "cell_type": "code",
   "execution_count": 11,
   "metadata": {},
   "outputs": [
    {
     "data": {
      "text/plain": [
       "tripduration                 int64\n",
       "starttime                   object\n",
       "stoptime                    object\n",
       "start station id           float64\n",
       "start station name          object\n",
       "start station latitude     float64\n",
       "start station longitude    float64\n",
       "end station id             float64\n",
       "end station name            object\n",
       "end station latitude       float64\n",
       "end station longitude      float64\n",
       "bikeid                       int64\n",
       "usertype                    object\n",
       "birth year                   int64\n",
       "gender                       int64\n",
       "dtype: object"
      ]
     },
     "execution_count": 11,
     "metadata": {},
     "output_type": "execute_result"
    }
   ],
   "source": [
    "# 2. Check the datatypes of your columns. \n",
    "citibike_df.dtypes"
   ]
  },
  {
   "cell_type": "code",
   "execution_count": 12,
   "metadata": {},
   "outputs": [],
   "source": [
    "# 3. Convert the 'tripduration' column to datetime datatype.\n",
    "citibike_df['tripduration'] = pd.to_datetime(citibike_df['tripduration'], unit='s')"
   ]
  },
  {
   "cell_type": "code",
   "execution_count": 13,
   "metadata": {},
   "outputs": [
    {
     "data": {
      "text/plain": [
       "tripduration               datetime64[ns]\n",
       "starttime                          object\n",
       "stoptime                           object\n",
       "start station id                  float64\n",
       "start station name                 object\n",
       "start station latitude            float64\n",
       "start station longitude           float64\n",
       "end station id                    float64\n",
       "end station name                   object\n",
       "end station latitude              float64\n",
       "end station longitude             float64\n",
       "bikeid                              int64\n",
       "usertype                           object\n",
       "birth year                          int64\n",
       "gender                              int64\n",
       "dtype: object"
      ]
     },
     "execution_count": 13,
     "metadata": {},
     "output_type": "execute_result"
    }
   ],
   "source": [
    "# 4. Check the datatypes of your columns. \n",
    "citibike_df.dtypes"
   ]
  },
  {
   "cell_type": "code",
   "execution_count": 14,
   "metadata": {},
   "outputs": [],
   "source": [
    "# 5. Export the Dataframe as a new CSV file without the index.\n",
    "citibike_df.to_csv(\"201908-citibike-tripdata_2.csv\", index = False)"
   ]
  },
  {
   "cell_type": "code",
   "execution_count": null,
   "metadata": {},
   "outputs": [],
   "source": []
  }
 ],
 "metadata": {
  "kernelspec": {
   "display_name": "PythonData",
   "language": "python",
   "name": "pythondata"
  },
  "language_info": {
   "codemirror_mode": {
    "name": "ipython",
    "version": 3
   },
   "file_extension": ".py",
   "mimetype": "text/x-python",
   "name": "python",
   "nbconvert_exporter": "python",
   "pygments_lexer": "ipython3",
   "version": "3.7.13"
  }
 },
 "nbformat": 4,
 "nbformat_minor": 4
}
